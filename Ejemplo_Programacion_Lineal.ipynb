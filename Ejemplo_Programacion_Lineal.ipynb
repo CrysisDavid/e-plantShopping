{
  "nbformat": 4,
  "nbformat_minor": 0,
  "metadata": {
    "colab": {
      "provenance": [],
      "include_colab_link": true
    },
    "kernelspec": {
      "name": "python3",
      "display_name": "Python 3"
    },
    "language_info": {
      "name": "python"
    }
  },
  "cells": [
    {
      "cell_type": "markdown",
      "metadata": {
        "id": "view-in-github",
        "colab_type": "text"
      },
      "source": [
        "<a href=\"https://colab.research.google.com/github/CrysisDavid/e-plantShopping/blob/main/Ejemplo_Programacion_Lineal.ipynb\" target=\"_parent\"><img src=\"https://colab.research.google.com/assets/colab-badge.svg\" alt=\"Open In Colab\"/></a>"
      ]
    },
    {
      "cell_type": "markdown",
      "source": [
        "# Ejemplo de Programación Lineal\n",
        "\n",
        "Este es un ejemplo de solución de un problema de **Programación Lineal**, utilizando [NumPy](https://numpy.org), [SciPy](https://www.scipy.org), y [Matplotlib](https://matplotlib.org).\n",
        "\n",
        "- Diego Fernando Marin"
      ],
      "metadata": {
        "id": "-8qnr1XqgXnO"
      }
    },
    {
      "cell_type": "markdown",
      "source": [
        "Importar las librerías necesarias:"
      ],
      "metadata": {
        "id": "E-S4CyEyhgtd"
      }
    },
    {
      "cell_type": "code",
      "source": [
        "import numpy as np\n",
        "from scipy.optimize import linprog\n",
        "import matplotlib.pyplot as plt"
      ],
      "metadata": {
        "id": "40brGWpK16GG"
      },
      "execution_count": null,
      "outputs": []
    },
    {
      "cell_type": "markdown",
      "source": [
        "## Problema:\n",
        "\n",
        "Una fabrica produce 2 productos llamados **A** y **B**.\n",
        "\n",
        "Para fabricar cada producto se necesita un cantidad determinada de unidades de materiales y de unidades de tiempo de trabajo, la venta de cada unidad de producto genera un ingreso, de acuerdo a esta tabla:\n",
        "\n",
        "||producto A|producto B|\n",
        "|:--|:-:|:-:|\n",
        "|Material|2|5|\n",
        "|Tiempo de Trabajo|4|2|\n",
        "|Ingreso|3|4|\n",
        "\n",
        "La fabrica dispone de 30 unidades de materiales y 20 unidades de tiempo de trabajo.\n",
        "\n",
        "La fabrica necesita un plan de producción que le indique cuántas unidades de cada producto debe fabricar con los recursos disponibles de tal forma que pueda obtener el máximo de utilidad.\n"
      ],
      "metadata": {
        "id": "PNObvXQg2RJ5"
      }
    },
    {
      "cell_type": "markdown",
      "source": [
        "$$ \\max_{x,y} \\quad z = 3x + 4y \\\\\n",
        "sujeto\\ a:\\\\\n",
        "2x + 5y \\quad \\leq 30 \\\\\n",
        "4x + 2y \\quad \\leq 20 \\\\\n",
        "\\quad x, y \\quad \\geq 0 $$"
      ],
      "metadata": {
        "id": "BX1p4uzf3-Cz"
      }
    },
    {
      "cell_type": "markdown",
      "source": [
        "## Solución numérica:"
      ],
      "metadata": {
        "id": "viaDjdHSlIal"
      }
    },
    {
      "cell_type": "code",
      "source": [
        "# función objetivo z: [x, y]\n",
        "z = [-3, -4] # negativo porque la funcion objetivo es maximizar\n",
        "# restricciones:\n",
        "A = [[2, 5], [4, 2]]\n",
        "b = [30, 20]\n",
        "# limites (min, max)\n",
        "x_lim = (0, None) # >= 0 -> entre 0 e infinito\n",
        "y_lim = (0, None)\n",
        "# solución: función objetivo = z, restricciones = A, b, limites = x_lim, y_lim\n",
        "sol = linprog(z, A_ub=A, b_ub=b, bounds=[x_lim, y_lim])\n",
        "print(f\"solución: x={sol.x[0]} y={sol.x[1]} ingresos ${-sol.fun}\")"
      ],
      "metadata": {
        "id": "fkBwNmpcDX8n"
      },
      "execution_count": null,
      "outputs": []
    },
    {
      "cell_type": "markdown",
      "source": [
        "## Solución gráfica"
      ],
      "metadata": {
        "id": "niqDNWn_ohp4"
      }
    },
    {
      "cell_type": "code",
      "source": [
        "# valores de x\n",
        "xs = np.linspace(-1, 15, 100) # x_min, x_max, numero de puntos\n",
        "# funciones de las restricciones\n",
        "y1 = (30 - 2*xs)/5\n",
        "y2 = (20 - 4*xs)/2\n",
        "# limite inferior para las áreas\n",
        "y3 = np.zeros_like(xs)"
      ],
      "metadata": {
        "id": "-H-2ZpVmlwZW"
      },
      "execution_count": null,
      "outputs": []
    },
    {
      "cell_type": "code",
      "source": [
        "# figura\n",
        "fig, ax = plt.subplots()\n",
        "# limites de y\n",
        "ax.set_ylim(-1, 13)\n",
        "# graficar las restricciones\n",
        "ax.plot(xs, y1, 'r')\n",
        "ax.plot(xs, y2, 'g')\n",
        "plt.fill_between(xs, y1, y3, where=y1>=y3, alpha=0.25)\n",
        "plt.fill_between(xs, y2, y3, where=y2>=y3, alpha=0.25)\n",
        "# graficar las posibles \"soluciones\"\n",
        "for yi in np.linspace(0, -sol.fun, 10):\n",
        "  yx = (yi-3*xs)/4\n",
        "  ax.plot(xs, yx, 'm:')\n",
        "# resaltar la solución óptima\n",
        "ax.plot(xs, yx, 'm-')\n",
        "ax.plot(sol.x[0], sol.x[1], \"ko\")\n",
        "# textos\n",
        "ax.text(0, 11, \"$2x + 5y \\leq 30$\", size=10)\n",
        "ax.text(11, 2.3, \"$4x + 2y \\leq 20$\", size=10)\n",
        "ax.text(2.7, 5.2, \"Solución Óptima: max $3x + 4y$\", size=10)\n",
        "# mostrar\n",
        "ax.grid()\n",
        "plt.show()"
      ],
      "metadata": {
        "id": "JupvSMmDo0CQ"
      },
      "execution_count": null,
      "outputs": []
    }
  ]
}